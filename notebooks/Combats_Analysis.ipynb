{
 "cells": [
  {
   "cell_type": "code",
   "execution_count": 3,
   "metadata": {},
   "outputs": [],
   "source": [
    "pokemon<-read.csv(\"../data/pokemon.csv\",sep=\",\",stringsAsFactors=F, header = TRUE)\n",
    "combats<-read.csv(\"../data/combats.csv\",sep=\",\",stringsAsFactors=F, header = TRUE)\n",
    "source(\"../functions/separ2.R\")\n",
    "source(\"../functions/prob.log.R\")\n",
    "source(\"../functions/logistic.R\")\n",
    "source(\"../functions/separ1.R\")\n",
    "source(\"../functions/prob.log2.R\")\n",
    "library(\"MASS\")\n",
    "pokemon$Legendary <- as.numeric(as.logical(pokemon$Legendary)) + 1"
   ]
  },
  {
   "cell_type": "code",
   "execution_count": 13,
   "metadata": {},
   "outputs": [
    {
     "data": {
      "image/png": "[encoded data removed]",
      "text/plain": [
       "plot without title"
      ]
     },
     "metadata": {},
     "output_type": "display_data"
    }
   ],
   "source": [
    "pokemon.num<-pokemon[c(5,6,7,8,9)]\n",
    "\n",
    "out0<-separ2(pokemon.num[,c(1,2)],pokemon$Legendary)\n",
    "Xapp<-out0$Xapp\n",
    "zapp<-out0$zapp\n",
    "Xval<-out0$Xval\n",
    "zval<-out0$zval\n",
    "Xtst<- out0$Xtst\n",
    "ztst<-out0$ztst\n",
    "\n",
    "out<-log.app(Xapp,zapp,T,1e-5)\n",
    "\n",
    "prob.log(out$beta,Xtst,ztst, niveaux = c(0.4,0.5,0.6))\n",
    "\n"
   ]
  },
  {
   "cell_type": "code",
   "execution_count": null,
   "metadata": {},
   "outputs": [],
   "source": []
  },
  {
   "cell_type": "code",
   "execution_count": 12,
   "metadata": {},
   "outputs": [
    {
     "ename": "ERROR",
     "evalue": "Error in as.matrix(pokemon.num[, c(4, 5)]): objet 'pokemon.num' introuvable\n",
     "output_type": "error",
     "traceback": [
      "Error in as.matrix(pokemon.num[, c(4, 5)]): objet 'pokemon.num' introuvable\nTraceback:\n",
      "1. poly(as.matrix(pokemon.num[, c(4, 5)]), degree = 2, raw = T)",
      "2. as.matrix(pokemon.num[, c(4, 5)])"
     ]
    }
   ],
   "source": [
    "X<- poly(as.matrix(pokemon.num[,c(4,5)]), degree=2, raw=T)\n",
    "out0<-separ1(X,pokemon$Legendary)\n",
    "Xapp<-out0$Xapp\n",
    "zapp<-out0$zapp\n",
    "Xval<-out0$Xval\n",
    "zval<-out0$zval\n",
    "Xtst<- out0$Xtst\n",
    "ztst<-out0$ztst\n",
    "out<-log.app(Xapp,as.factor(zapp),T,1e-5)\n",
    "prob.log2(out$beta,Xtst[,c(1,3)],ztst, niveaux = c(0.4,0.5,0.6))\n",
    "\n",
    "pokemon"
   ]
  },
  {
   "cell_type": "code",
   "execution_count": 11,
   "metadata": {},
   "outputs": [],
   "source": [
    "score <- function(pok1, pok2, data) #proba à posteriori à la classe 1\n",
    "{\n",
    "\n",
    "    pk1<-data[pok1,c(3,4,5,6,7,8,9,10,12)]\n",
    "       pk2<-data[pok2,c(3,4,5,6,7,8,9,10,12)]\n",
    "    \n",
    "    \n",
    "    out$tab <-rbind(pk1,pk2)\n",
    "    out$score<-sum(pk1[c(3,4,5,6,7)])-sum(pk2[c(3,4,5,6,7)])\n",
    "    out\n",
    "}\n",
    "\n"
   ]
  },
  {
   "cell_type": "code",
   "execution_count": 38,
   "metadata": {},
   "outputs": [
    {
     "data": {
      "text/html": [
       "<table>\n",
       "<caption>A data.frame: 2 × 9</caption>\n",
       "<thead>\n",
       "\t<tr><th></th><th scope=col>Type.1</th><th scope=col>Type.2</th><th scope=col>HP</th><th scope=col>Attack</th><th scope=col>Defense</th><th scope=col>Sp..Atk</th><th scope=col>Sp..Def</th><th scope=col>Speed</th><th scope=col>Legendary</th></tr>\n",
       "\t<tr><th></th><th scope=col>&lt;chr&gt;</th><th scope=col>&lt;chr&gt;</th><th scope=col>&lt;int&gt;</th><th scope=col>&lt;int&gt;</th><th scope=col>&lt;int&gt;</th><th scope=col>&lt;int&gt;</th><th scope=col>&lt;int&gt;</th><th scope=col>&lt;int&gt;</th><th scope=col>&lt;dbl&gt;</th></tr>\n",
       "</thead>\n",
       "<tbody>\n",
       "\t<tr><th scope=row>161</th><td>Dragon</td><td>     </td><td>61</td><td>84</td><td>65</td><td>70</td><td>70</td><td>70</td><td>1</td></tr>\n",
       "\t<tr><th scope=row>781</th><td>Ghost </td><td>Grass</td><td>49</td><td>66</td><td>70</td><td>44</td><td>55</td><td>51</td><td>1</td></tr>\n",
       "</tbody>\n",
       "</table>\n"
      ],
      "text/latex": [
       "A data.frame: 2 × 9\n",
       "\\begin{tabular}{r|lllllllll}\n",
       "  & Type.1 & Type.2 & HP & Attack & Defense & Sp..Atk & Sp..Def & Speed & Legendary\\\\\n",
       "  & <chr> & <chr> & <int> & <int> & <int> & <int> & <int> & <int> & <dbl>\\\\\n",
       "\\hline\n",
       "\t161 & Dragon &       & 61 & 84 & 65 & 70 & 70 & 70 & 1\\\\\n",
       "\t781 & Ghost  & Grass & 49 & 66 & 70 & 44 & 55 & 51 & 1\\\\\n",
       "\\end{tabular}\n"
      ],
      "text/markdown": [
       "\n",
       "A data.frame: 2 × 9\n",
       "\n",
       "| <!--/--> | Type.1 &lt;chr&gt; | Type.2 &lt;chr&gt; | HP &lt;int&gt; | Attack &lt;int&gt; | Defense &lt;int&gt; | Sp..Atk &lt;int&gt; | Sp..Def &lt;int&gt; | Speed &lt;int&gt; | Legendary &lt;dbl&gt; |\n",
       "|---|---|---|---|---|---|---|---|---|---|\n",
       "| 161 | Dragon | <!----> | 61 | 84 | 65 | 70 | 70 | 70 | 1 |\n",
       "| 781 | Ghost  | Grass | 49 | 66 | 70 | 44 | 55 | 51 | 1 |\n",
       "\n"
      ],
      "text/plain": [
       "    Type.1 Type.2 HP Attack Defense Sp..Atk Sp..Def Speed Legendary\n",
       "161 Dragon        61 84     65      70      70      70    1        \n",
       "781 Ghost  Grass  49 66     70      44      55      51    1        "
      ]
     },
     "metadata": {},
     "output_type": "display_data"
    },
    {
     "name": "stdout",
     "output_type": "stream",
     "text": [
      "[1] \"Pokemon1\"\n"
     ]
    },
    {
     "data": {
      "text/html": [
       "161"
      ],
      "text/latex": [
       "161"
      ],
      "text/markdown": [
       "161"
      ],
      "text/plain": [
       "[1] 161"
      ]
     },
     "metadata": {},
     "output_type": "display_data"
    }
   ],
   "source": [
    "num_combat=174\n",
    "res<-score(combats[num_combat,1],combats[num_combat,2],pokemon)\n",
    "res$tab\n",
    "if(res$score<0)\n",
    "    print(\"Pokemon2\")\n",
    "if(res$score>0)\n",
    "    print(\"Pokemon1\")\n",
    "combats[num_combat,3]"
   ]
  },
  {
   "cell_type": "code",
   "execution_count": 49,
   "metadata": {},
   "outputs": [],
   "source": [
    "resultat<-c()\n",
    "for (num_combat in 1:length(combats$First_pokemon))\n",
    "{\n",
    "    res<-score(combats[num_combat,1],combats[num_combat,2],pokemon)\n",
    "\n",
    "if(res$score<=0)\n",
    "    resultat[num_combat]<-combats[num_combat,2]\n",
    "if(res$score>0)\n",
    "     resultat[num_combat]<-combats[num_combat,1]\n",
    "}\n"
   ]
  },
  {
   "cell_type": "code",
   "execution_count": 16,
   "metadata": {},
   "outputs": [
    {
     "data": {
      "text/html": [
       "0.78546"
      ],
      "text/latex": [
       "0.78546"
      ],
      "text/markdown": [
       "0.78546"
      ],
      "text/plain": [
       "[1] 0.78546"
      ]
     },
     "metadata": {},
     "output_type": "display_data"
    }
   ],
   "source": [
    "length(resultat[resultat == combats[,3]])/50000\n"
   ]
  },
  {
   "cell_type": "code",
   "execution_count": 9,
   "metadata": {},
   "outputs": [],
   "source": [
    "score2 <- function(pok1, pok2, data) #Avec l'attaque et la vitesse\n",
    "{\n",
    "\n",
    "    pk1<-data[pok1,c(3,4,5,6,7,8,9,10,12)]\n",
    "       pk2<-data[pok2,c(3,4,5,6,7,8,9,10,12)]\n",
    "    \n",
    "    \n",
    "    out$tab <-rbind(pk1,pk2)\n",
    "    out$score<-sum(pk1[c(4,8)])-sum(pk2[c(4,8)])\n",
    "    out\n",
    "}\n",
    "\n"
   ]
  },
  {
   "cell_type": "code",
   "execution_count": 14,
   "metadata": {},
   "outputs": [],
   "source": [
    "resultat<-c()\n",
    "for (num_combat in 1:length(combats$First_pokemon))\n",
    "{\n",
    "    res<-score2(combats[num_combat,1],combats[num_combat,2],pokemon)\n",
    "\n",
    "if(res$score<=0)\n",
    "    resultat[num_combat]<-combats[num_combat,2]\n",
    "if(res$score>0)\n",
    "     resultat[num_combat]<-combats[num_combat,1]\n",
    "}"
   ]
  },
  {
   "cell_type": "code",
   "execution_count": 15,
   "metadata": {},
   "outputs": [
    {
     "data": {
      "text/html": [
       "0.78546"
      ],
      "text/latex": [
       "0.78546"
      ],
      "text/markdown": [
       "0.78546"
      ],
      "text/plain": [
       "[1] 0.78546"
      ]
     },
     "metadata": {},
     "output_type": "display_data"
    }
   ],
   "source": [
    "length(resultat[resultat == combats[,3]])/50000"
   ]
  },
  {
   "cell_type": "code",
   "execution_count": null,
   "metadata": {},
   "outputs": [],
   "source": []
  }
 ],
 "metadata": {
  "kernelspec": {
   "display_name": "R",
   "language": "R",
   "name": "ir"
  },
  "language_info": {
   "codemirror_mode": "r",
   "file_extension": ".r",
   "mimetype": "text/x-r-source",
   "name": "R",
   "pygments_lexer": "r",
   "version": "3.4.2"
  }
 },
 "nbformat": 4,
 "nbformat_minor": 2
}
